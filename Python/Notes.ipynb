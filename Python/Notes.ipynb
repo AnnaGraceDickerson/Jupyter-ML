{
 "cells": [
  {
   "cell_type": "markdown",
   "id": "9f370ef3-7c27-4108-b9be-11aff60be6ce",
   "metadata": {},
   "source": [
    "250 Hz: For most clinical EEG research, brain waves of interest typically fall between 0.5 and 40 Hz. Sampling at 256 Hz is more than sufficient to capture these frequencies, with a Nyquist frequency of 128 Hz (half of 256), which allows for capturing activity up to 128 Hz. "
   ]
  },
  {
   "cell_type": "markdown",
   "id": "b8ca6dc8-bede-48fb-b35c-7b33c036e727",
   "metadata": {},
   "source": [
    "500–1000 Hz: Higher sampling rates are preferred in research settings, particularly for studying rapid brain oscillations, epileptic spikes, or high-frequency oscillations (HFOs), which can occur above 80 Hz. This higher sampling rate provides finer temporal resolution, which is useful for accurate analysis and source localization of neural signals.\n",
    "\n",
    "Epileptic spike-and-wave discharges (SWD), which are characteristic of certain types of epilepsy, especially absence seizures, **generally occur at frequencies between 2.5 and 4 Hz in humans**.\n",
    "\n",
    "**Mice and rats with absence epilepsy often show SWD frequencies around 6–9 Hz**, which is faster than typical human SWDs\n",
    "\n",
    "**Nyquist theorem:** the sampling rate should be at least twice the highest frequency of interest in the signal to accurately reconstruct it"
   ]
  },
  {
   "cell_type": "code",
   "execution_count": null,
   "id": "a543b5a8-7e9c-4166-bb71-e932773eff55",
   "metadata": {},
   "outputs": [],
   "source": [
    "ls"
   ]
  },
  {
   "cell_type": "code",
   "execution_count": 1,
   "id": "26232157-ff29-49c4-b4e9-64bc6f2d738a",
   "metadata": {},
   "outputs": [
    {
     "data": {
      "text/plain": [
       "'/home/annagd/Documents/Python'"
      ]
     },
     "execution_count": 1,
     "metadata": {},
     "output_type": "execute_result"
    }
   ],
   "source": [
    "pwd"
   ]
  },
  {
   "cell_type": "code",
   "execution_count": null,
   "id": "142ca170-4e37-4760-86d4-3285a70bd6e2",
   "metadata": {},
   "outputs": [],
   "source": []
  }
 ],
 "metadata": {
  "kernelspec": {
   "display_name": "Python 3 (ipykernel)",
   "language": "python",
   "name": "python3"
  },
  "language_info": {
   "codemirror_mode": {
    "name": "ipython",
    "version": 3
   },
   "file_extension": ".py",
   "mimetype": "text/x-python",
   "name": "python",
   "nbconvert_exporter": "python",
   "pygments_lexer": "ipython3",
   "version": "3.10.12"
  }
 },
 "nbformat": 4,
 "nbformat_minor": 5
}
