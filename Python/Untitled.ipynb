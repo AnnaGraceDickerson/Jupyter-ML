{
 "cells": [
  {
   "cell_type": "code",
   "execution_count": 1,
   "id": "00881bce-fda0-48dc-aa1d-dfb37f4ed833",
   "metadata": {},
   "outputs": [
    {
     "name": "stdout",
     "output_type": "stream",
     "text": [
      " 1-Downsampling.ipynb               load_intan_rhd_format.py\n",
      " 2-LoadWholeRecording-Copy1.ipynb   MANIFEST\n",
      " 2-LoadWholeRecording.ipynb         Notes.ipynb\n",
      " AG_functions.py                    \u001b[0m\u001b[01;34m__pycache__\u001b[0m/\n",
      " \u001b[01;34mdist\u001b[0m/                              readme.txt\n",
      " \u001b[01;34meeglib-master\u001b[0m/                     README.txt\n",
      " \u001b[01;31meeglib-master.zip\u001b[0m                  sampledata.rhd\n",
      "'eeglib package practice.ipynb'     seizureEndTimes.mat\n",
      " intan                              seizureStartTimes.mat\n",
      " \u001b[01;34mintanutil\u001b[0m/                         setup.py\n",
      " \u001b[01;34mload_intan_rhd_format\u001b[0m/             Untitled.ipynb\n"
     ]
    }
   ],
   "source": [
    "ls"
   ]
  },
  {
   "cell_type": "code",
   "execution_count": 2,
   "id": "b8876ac5-bcf2-418e-8b64-046cd18e0859",
   "metadata": {},
   "outputs": [],
   "source": [
    "from AG_functions import *"
   ]
  },
  {
   "cell_type": "code",
   "execution_count": 3,
   "id": "a64de811-9a39-443a-942c-0f20b90f1655",
   "metadata": {},
   "outputs": [
    {
     "data": {
      "text/plain": [
       "<function AG_functions.label_data(allData, starts, ends, sec_pre_ictal)>"
      ]
     },
     "execution_count": 3,
     "metadata": {},
     "output_type": "execute_result"
    }
   ],
   "source": [
    "label_data"
   ]
  },
  {
   "cell_type": "code",
   "execution_count": null,
   "id": "fb45c7c4-82e3-4456-95d5-b440f48aa93f",
   "metadata": {},
   "outputs": [],
   "source": []
  }
 ],
 "metadata": {
  "kernelspec": {
   "display_name": "Python 3 (ipykernel)",
   "language": "python",
   "name": "python3"
  },
  "language_info": {
   "codemirror_mode": {
    "name": "ipython",
    "version": 3
   },
   "file_extension": ".py",
   "mimetype": "text/x-python",
   "name": "python",
   "nbconvert_exporter": "python",
   "pygments_lexer": "ipython3",
   "version": "3.10.12"
  }
 },
 "nbformat": 4,
 "nbformat_minor": 5
}
